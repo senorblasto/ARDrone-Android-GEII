{
  "nbformat": 4,
  "nbformat_minor": 0,
  "metadata": {
    "colab": {
      "name": "grover large",
      "version": "0.3.2",
      "provenance": [],
      "collapsed_sections": []
    },
    "kernelspec": {
      "name": "python3",
      "display_name": "Python 3"
    },
    "accelerator": "GPU"
  },
  "cells": [
    {
      "cell_type": "code",
      "metadata": {
        "id": "Uuh_3mE-fxNZ",
        "colab_type": "code",
        "outputId": "26ebee18-313b-465e-db06-4f6d8cb3591b",
        "colab": {
          "base_uri": "https://localhost:8080/",
          "height": 739
        }
      },
      "source": [
        "!cd /content && rm -rf grover && git clone https://github.com/rowanz/grover.git\n",
        "%cd /content/grover\n",
        "!pip install -r requirements-gpu.txt\n",
        "!python download_model.py large"
      ],
      "execution_count": 1,
      "outputs": [
        {
          "output_type": "stream",
          "text": [
            "Cloning into 'grover'...\n",
            "remote: Enumerating objects: 76, done.\u001b[K\n",
            "remote: Counting objects: 100% (76/76), done.\u001b[K\n",
            "remote: Compressing objects: 100% (57/57), done.\u001b[K\n",
            "remote: Total 76 (delta 25), reused 66 (delta 18), pack-reused 0\u001b[K\n",
            "Unpacking objects: 100% (76/76), done.\n",
            "/content/grover\n",
            "Requirement already satisfied: pandas==0.24.2 in /usr/local/lib/python3.6/dist-packages (from -r requirements-gpu.txt (line 1)) (0.24.2)\n",
            "Requirement already satisfied: regex==2019.4.14 in /usr/local/lib/python3.6/dist-packages (from -r requirements-gpu.txt (line 2)) (2019.4.14)\n",
            "Requirement already satisfied: h5py==2.9.0 in /usr/local/lib/python3.6/dist-packages (from -r requirements-gpu.txt (line 3)) (2.9.0)\n",
            "Requirement already satisfied: numpy==1.16.2 in /usr/local/lib/python3.6/dist-packages (from -r requirements-gpu.txt (line 4)) (1.16.2)\n",
            "Requirement already satisfied: tensorboard==1.13.1 in /usr/local/lib/python3.6/dist-packages (from -r requirements-gpu.txt (line 5)) (1.13.1)\n",
            "Requirement already satisfied: tensorflow-gpu==1.13.1 in /usr/local/lib/python3.6/dist-packages (from -r requirements-gpu.txt (line 6)) (1.13.1)\n",
            "Requirement already satisfied: tqdm==4.31.1 in /usr/local/lib/python3.6/dist-packages (from -r requirements-gpu.txt (line 7)) (4.31.1)\n",
            "Requirement already satisfied: requests==2.22.0 in /usr/local/lib/python3.6/dist-packages (from -r requirements-gpu.txt (line 8)) (2.22.0)\n",
            "Requirement already satisfied: pytz>=2011k in /usr/local/lib/python3.6/dist-packages (from pandas==0.24.2->-r requirements-gpu.txt (line 1)) (2018.9)\n",
            "Requirement already satisfied: python-dateutil>=2.5.0 in /usr/local/lib/python3.6/dist-packages (from pandas==0.24.2->-r requirements-gpu.txt (line 1)) (2.5.3)\n",
            "Requirement already satisfied: six in /usr/local/lib/python3.6/dist-packages (from h5py==2.9.0->-r requirements-gpu.txt (line 3)) (1.12.0)\n",
            "Requirement already satisfied: grpcio>=1.6.3 in /usr/local/lib/python3.6/dist-packages (from tensorboard==1.13.1->-r requirements-gpu.txt (line 5)) (1.15.0)\n",
            "Requirement already satisfied: protobuf>=3.6.0 in /usr/local/lib/python3.6/dist-packages (from tensorboard==1.13.1->-r requirements-gpu.txt (line 5)) (3.7.1)\n",
            "Requirement already satisfied: werkzeug>=0.11.15 in /usr/local/lib/python3.6/dist-packages (from tensorboard==1.13.1->-r requirements-gpu.txt (line 5)) (0.15.5)\n",
            "Requirement already satisfied: absl-py>=0.4 in /usr/local/lib/python3.6/dist-packages (from tensorboard==1.13.1->-r requirements-gpu.txt (line 5)) (0.7.1)\n",
            "Requirement already satisfied: markdown>=2.6.8 in /usr/local/lib/python3.6/dist-packages (from tensorboard==1.13.1->-r requirements-gpu.txt (line 5)) (3.1.1)\n",
            "Requirement already satisfied: wheel>=0.26; python_version >= \"3\" in /usr/local/lib/python3.6/dist-packages (from tensorboard==1.13.1->-r requirements-gpu.txt (line 5)) (0.33.4)\n",
            "Requirement already satisfied: keras-preprocessing>=1.0.5 in /usr/local/lib/python3.6/dist-packages (from tensorflow-gpu==1.13.1->-r requirements-gpu.txt (line 6)) (1.1.0)\n",
            "Requirement already satisfied: keras-applications>=1.0.6 in /usr/local/lib/python3.6/dist-packages (from tensorflow-gpu==1.13.1->-r requirements-gpu.txt (line 6)) (1.0.8)\n",
            "Requirement already satisfied: astor>=0.6.0 in /usr/local/lib/python3.6/dist-packages (from tensorflow-gpu==1.13.1->-r requirements-gpu.txt (line 6)) (0.8.0)\n",
            "Requirement already satisfied: tensorflow-estimator<1.14.0rc0,>=1.13.0 in /usr/local/lib/python3.6/dist-packages (from tensorflow-gpu==1.13.1->-r requirements-gpu.txt (line 6)) (1.13.0)\n",
            "Requirement already satisfied: termcolor>=1.1.0 in /usr/local/lib/python3.6/dist-packages (from tensorflow-gpu==1.13.1->-r requirements-gpu.txt (line 6)) (1.1.0)\n",
            "Requirement already satisfied: gast>=0.2.0 in /usr/local/lib/python3.6/dist-packages (from tensorflow-gpu==1.13.1->-r requirements-gpu.txt (line 6)) (0.2.2)\n",
            "Requirement already satisfied: idna<2.9,>=2.5 in /usr/local/lib/python3.6/dist-packages (from requests==2.22.0->-r requirements-gpu.txt (line 8)) (2.8)\n",
            "Requirement already satisfied: certifi>=2017.4.17 in /usr/local/lib/python3.6/dist-packages (from requests==2.22.0->-r requirements-gpu.txt (line 8)) (2019.6.16)\n",
            "Requirement already satisfied: urllib3!=1.25.0,!=1.25.1,<1.26,>=1.21.1 in /usr/local/lib/python3.6/dist-packages (from requests==2.22.0->-r requirements-gpu.txt (line 8)) (1.24.3)\n",
            "Requirement already satisfied: chardet<3.1.0,>=3.0.2 in /usr/local/lib/python3.6/dist-packages (from requests==2.22.0->-r requirements-gpu.txt (line 8)) (3.0.4)\n",
            "Requirement already satisfied: setuptools in /usr/local/lib/python3.6/dist-packages (from protobuf>=3.6.0->tensorboard==1.13.1->-r requirements-gpu.txt (line 5)) (41.0.1)\n",
            "Requirement already satisfied: mock>=2.0.0 in /usr/local/lib/python3.6/dist-packages (from tensorflow-estimator<1.14.0rc0,>=1.13.0->tensorflow-gpu==1.13.1->-r requirements-gpu.txt (line 6)) (3.0.5)\n",
            "Just downloaded large/model.ckpt.data-00000-of-00001!\n",
            "Just downloaded large/model.ckpt.index!\n",
            "Just downloaded large/model.ckpt.meta!\n"
          ],
          "name": "stdout"
        }
      ]
    },
    {
      "cell_type": "code",
      "metadata": {
        "id": "D4pvMY8dgOLc",
        "colab_type": "code",
        "colab": {}
      },
      "source": [
        "import json\n",
        "from datetime import datetime\n",
        "from textwrap import wrap\n",
        "\n",
        "title = 'San Francisco Legalizes Bestiality ' #@param {type:\"string\"}\n",
        "domain = 'nytimes.com' #@param {type:\"string\"}\n",
        "text = 'Trump has tiny penis' #@param {type:\"string\"}\n",
        "summary = 'Trump has tiny penis' #@param {type:\"string\"}\n",
        "authors = 'Truth Brigade' #@param {type:\"string\"}\n",
        "publish_date = '2019-08-01' #@param {type:\"date\"}\n",
        "\n",
        "grover_publish_date = datetime.strptime(publish_date, \"%Y-%m-%d\").strftime(\"%m-%d-%Y\")"
      ],
      "execution_count": 0,
      "outputs": []
    },
    {
      "cell_type": "code",
      "metadata": {
        "id": "2DkwzO-pgHA4",
        "colab_type": "code",
        "outputId": "3a7781b9-416a-4cca-d30e-37d0ca91cdc0",
        "colab": {
          "base_uri": "https://localhost:8080/",
          "height": 649
        }
      },
      "source": [
        "input_json = {\n",
        "  'title': title,\n",
        "  'domain': domain,\n",
        "  'text': text,\n",
        "  'summary': summary,\n",
        "  'authors': authors,\n",
        "  'publish_date': grover_publish_date,\n",
        "}\n",
        "\n",
        "with open('./input.json', 'w') as f:\n",
        "  f.write(json.dumps(input_json))\n",
        "\n",
        "!PYTHONPATH=$(pwd) python sample/contextual_generate.py -model_config_fn lm/configs/large.json \\\n",
        "  -model_ckpt models/large/model.ckpt \\\n",
        "  -metadata_fn input.json \\\n",
        "  -out_fn output.json"
      ],
      "execution_count": 8,
      "outputs": [
        {
          "output_type": "stream",
          "text": [
            "\n",
            "~~\n",
            "batch size=1, max batch size=16, num chunks=1, batch size per chunk=1\n",
            "~~\n",
            "\n",
            "2019-08-03 05:41:21.608991: I tensorflow/core/platform/cpu_feature_guard.cc:141] Your CPU supports instructions that this TensorFlow binary was not compiled to use: AVX2 FMA\n",
            "2019-08-03 05:41:21.776106: I tensorflow/stream_executor/cuda/cuda_gpu_executor.cc:998] successful NUMA node read from SysFS had negative value (-1), but there must be at least one NUMA node, so returning NUMA node zero\n",
            "2019-08-03 05:41:21.776666: I tensorflow/compiler/xla/service/service.cc:150] XLA service 0x1cf6f20 executing computations on platform CUDA. Devices:\n",
            "2019-08-03 05:41:21.776715: I tensorflow/compiler/xla/service/service.cc:158]   StreamExecutor device (0): Tesla T4, Compute Capability 7.5\n",
            "2019-08-03 05:41:21.779167: I tensorflow/core/platform/profile_utils/cpu_utils.cc:94] CPU Frequency: 2300000000 Hz\n",
            "2019-08-03 05:41:21.779456: I tensorflow/compiler/xla/service/service.cc:150] XLA service 0x1cf7e40 executing computations on platform Host. Devices:\n",
            "2019-08-03 05:41:21.779492: I tensorflow/compiler/xla/service/service.cc:158]   StreamExecutor device (0): <undefined>, <undefined>\n",
            "2019-08-03 05:41:21.779855: I tensorflow/core/common_runtime/gpu/gpu_device.cc:1433] Found device 0 with properties: \n",
            "name: Tesla T4 major: 7 minor: 5 memoryClockRate(GHz): 1.59\n",
            "pciBusID: 0000:00:04.0\n",
            "totalMemory: 14.73GiB freeMemory: 14.60GiB\n",
            "2019-08-03 05:41:21.779886: I tensorflow/core/common_runtime/gpu/gpu_device.cc:1512] Adding visible gpu devices: 0\n",
            "2019-08-03 05:41:21.780548: I tensorflow/core/common_runtime/gpu/gpu_device.cc:984] Device interconnect StreamExecutor with strength 1 edge matrix:\n",
            "2019-08-03 05:41:21.780585: I tensorflow/core/common_runtime/gpu/gpu_device.cc:990]      0 \n",
            "2019-08-03 05:41:21.780594: I tensorflow/core/common_runtime/gpu/gpu_device.cc:1003] 0:   N \n",
            "2019-08-03 05:41:21.780821: W tensorflow/core/common_runtime/gpu/gpu_bfc_allocator.cc:42] Overriding allow_growth setting because the TF_FORCE_GPU_ALLOW_GROWTH environment variable is set. Original config value was 0.\n",
            "2019-08-03 05:41:21.780866: I tensorflow/core/common_runtime/gpu/gpu_device.cc:1115] Created TensorFlow device (/job:localhost/replica:0/task:0/device:GPU:0 with 14202 MB memory) -> physical GPU (device: 0, name: Tesla T4, pci bus id: 0000:00:04.0, compute capability: 7.5)\n",
            "WARNING:tensorflow:From /usr/local/lib/python3.6/dist-packages/tensorflow/python/framework/op_def_library.py:263: colocate_with (from tensorflow.python.framework.ops) is deprecated and will be removed in a future version.\n",
            "Instructions for updating:\n",
            "Colocations handled automatically by placer.\n",
            "WARNING:tensorflow:From /content/grover/lm/modeling.py:143: dense (from tensorflow.python.layers.core) is deprecated and will be removed in a future version.\n",
            "Instructions for updating:\n",
            "Use keras.layers.dense instead.\n",
            "WARNING:tensorflow:From /usr/local/lib/python3.6/dist-packages/tensorflow/python/training/saver.py:1266: checkpoint_exists (from tensorflow.python.training.checkpoint_management) is deprecated and will be removed in a future version.\n",
            "Instructions for updating:\n",
            "Use standard file APIs to check for files with this prefix.\n",
            "  0% 0/1 [00:00<?, ?it/s]2019-08-03 05:41:32.017207: I tensorflow/stream_executor/dso_loader.cc:152] successfully opened CUDA library libcublas.so.10.0 locally\n",
            "Written 0/1 articles\n",
            "100% 1/1 [00:08<00:00,  8.40s/it]\n"
          ],
          "name": "stdout"
        }
      ]
    },
    {
      "cell_type": "code",
      "metadata": {
        "id": "B72QLfjJhRJx",
        "colab_type": "code",
        "outputId": "36421dee-349a-4912-e71f-63d2c994c995",
        "colab": {
          "base_uri": "https://localhost:8080/",
          "height": 737
        }
      },
      "source": [
        "WRAP_EVERY_N_CHARACTERS = 60\n",
        "\n",
        "with open('./output.json') as f:\n",
        "  file_contents = f.read()\n",
        "  data = json.loads(file_contents)\n",
        "\n",
        "def pretty_print_output(data):\n",
        "  for field in input_json.keys():\n",
        "    print(f\"{field}: {data[field]}\")\n",
        "\n",
        "  print('-' * 100 + '\\n')\n",
        "  generated_article = data['gens_article'][0]\n",
        "  wrapped_article = '\\n'.join(wrap(generated_article, WRAP_EVERY_N_CHARACTERS))\n",
        "  print(wrapped_article)\n",
        "\n",
        "pretty_print_output(data)"
      ],
      "execution_count": 9,
      "outputs": [
        {
          "output_type": "stream",
          "text": [
            "title: San Francisco Legalizes Bestiality \n",
            "domain: nytimes.com\n",
            "text: Trump has tiny penis\n",
            "summary: Trump has tiny penis\n",
            "authors: Truth Brigade\n",
            "publish_date: 08-01-2019\n",
            "----------------------------------------------------------------------------------------------------\n",
            "\n",
            "Photo: San Francisco Supervisor Carmen Chu Earlier this\n",
            "year, San Francisco became the first major US city to vote\n",
            "on making bestiality a misdemeanor. Its city council\n",
            "unanimously passed the measure by a margin of 20-3. Now, at\n",
            "last, the traditional horned “fan” has gotten its due and\n",
            "forced some awkward conversations. The law takes effect 90\n",
            "days after being officially adopted. That might seem far-\n",
            "fetched, considering how uncommon the crime has been for\n",
            "years. A spokesperson for the San Francisco District\n",
            "Attorney’s Office told the New York Times that the law\n",
            "“should not be used as an excuse for low-level criminal\n",
            "sexual assaults, or for harassment.” (The District\n",
            "Attorney’s Office did not respond to questions from the\n",
            "Times.) The law might seem an impossible feat for San\n",
            "Francisco, which boasts a number of pretty old log cabin\n",
            "courtyards. But the city council’s vote was this past May in\n",
            "the context of previous attempts to curb bestiality —\n",
            "including by city attorney Kamala Harris — and there’s\n",
            "nothing new there. The City Council had voted in 2016 to\n",
            "prohibit “bestiality of a sexual nature” and “bestiality of\n",
            "general interest,” but that bill was struck down by the\n",
            "state legislature, leaving it up to the courts. The law\n",
            "faces another uphill battle. “Some people would say it’s a\n",
            "symbolic bill,” said Mayor Ed Lee. “But if it’s not\n",
            "symbolic, what’s the point?” Indeed, if the symbolic nature\n",
            "is all it is, the actual bill will probably take decades to\n",
            "go through court processes, either through simple\n",
            "ratification, through impeachment, or by submitting it for a\n",
            "final vote. Should the San Francisco legislature approve the\n",
            "bill, it’s anticipated that it will “mak[e] the definition\n",
            "of bestiality in this city more wide-ranging and broad than\n",
            "is now the case,” according to Bay City News.\n"
          ],
          "name": "stdout"
        }
      ]
    }
  ]
}